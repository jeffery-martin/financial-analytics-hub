{
 "cells": [
  {
   "cell_type": "code",
   "execution_count": null,
   "id": "e984179d",
   "metadata": {
    "vscode": {
     "languageId": "plaintext"
    }
   },
   "outputs": [],
   "source": [
    "# Auto-install openpyxl if it's missing\n",
    "try:\n",
    "    import openpyxl\n",
    "except ImportError:\n",
    "    %pip install openpyxl\n",
    "    import openpyxl\n",
    "    dbutils.library.restartPython()"
   ]
  },
  {
   "cell_type": "code",
   "execution_count": null,
   "id": "57e4b3de",
   "metadata": {
    "vscode": {
     "languageId": "plaintext"
    }
   },
   "outputs": [],
   "source": [
    "import pandas as pd \n",
    "from pyspark.sql.types import StructType, StructField, DateType, StringType, DoubleType, IntegerType\n",
    "import pyspark.sql.functions as F\n",
    "from pyspark.sql import Window\n",
    "\n",
    "# Step 1: Import Daily AOP targets from Excel\n",
    "\n",
    "file_path = \"/Workspace/Users/financial-analytics-hub/AOP_gaited.xlsx\"\n",
    "sheet_name = \"DailyAOP\"\n",
    "aop_df = pd.read_excel(file_path, sheet_name=sheet_name)\n",
    "\n",
    "# Step 2: Standardize data structure and convert to Spark DataFrame\n",
    "\n",
    "schema = StructType([\n",
    "    StructField(\"Date\", DateType(), True),\n",
    "    StructField(\"Category\", StringType(), True),\n",
    "    StructField(\"Target\", DoubleType(), True)\n",
    "])\n",
    "aop_spark_df = spark.createDataFrame(aop_df, schema=schema)\n",
    "\n",
    "# Step 3: Save AOP data as a Delta table for persistent storage\n",
    "\n",
    "spark.sql(\"USE CATALOG analytics\")\n",
    "spark.sql(\"USE SCHEMA gold\")\n",
    "aop_spark_df.write \\\n",
    "    .format(\"delta\") \\\n",
    "    .mode(\"overwrite\") \\\n",
    "    .option(\"overwriteSchema\", \"true\") \\\n",
    "    .saveAsTable(\"aop_q1\")\n",
    "\n",
    "# Step 4: Load date dimension table\n",
    "\n",
    "date_df = spark.table(\"analytics.gold.date\")\n",
    "\n",
    "# Step 5: Enrich AOP data with fiscal calendar information\n",
    "\n",
    "aop_with_fiscal = (\n",
    "    aop_spark_df\n",
    "    .join(date_df.select(\"Date\", \"FiscalYear\", \"FiscalQuarter\"), on=\"Date\", how=\"left\")\n",
    ")\n",
    "\n",
    "# Step 6: Calculate Quarter-to-Date (QTD) cumulative targets\n",
    "\n",
    "window_spec = Window.partitionBy(\"FiscalYear\", \"FiscalQuarter\", \"Category\") \\\n",
    "    .orderBy(\"Date\") \\\n",
    "    .rowsBetween(Window.unboundedPreceding, Window.currentRow)\n",
    "\n",
    "aop_q1_with_qtd = aop_with_fiscal.withColumn(\"QTD_Target\", F.sum(\"Target\").over(window_spec))\n",
    "\n",
    "# Step 7: Save the enriched and cumulative AOP data\n",
    "\n",
    "aop_q1_with_qtd.write \\\n",
    "    .format(\"delta\") \\\n",
    "    .mode(\"overwrite\") \\\n",
    "    .option(\"overwriteSchema\", \"true\") \\\n",
    "    .saveAsTable(\"aop_q1_with_qtd\")\n"
   ]
  }
 ],
 "metadata": {
  "language_info": {
   "name": "python"
  }
 },
 "nbformat": 4,
 "nbformat_minor": 5
}
